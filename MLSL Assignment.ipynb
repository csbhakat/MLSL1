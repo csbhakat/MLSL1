{
 "cells": [
  {
   "cell_type": "code",
   "execution_count": 1,
   "metadata": {},
   "outputs": [],
   "source": [
    "import pandas as pd\n",
    "import numpy as np\n",
    "import matplotlib.pyplot as plt\n",
    "import seaborn as sns"
   ]
  },
  {
   "cell_type": "code",
   "execution_count": 3,
   "metadata": {},
   "outputs": [],
   "source": [
    "\n",
    "df=pd.read_csv(\"fedex.csv\")\n",
    "df.to_pickle(\"fedex.bz2\")"
   ]
  },
  {
   "cell_type": "markdown",
   "metadata": {},
   "source": [
    "### Data Analysis"
   ]
  },
  {
   "cell_type": "code",
   "execution_count": 3,
   "metadata": {},
   "outputs": [
    {
     "name": "stdout",
     "output_type": "stream",
     "text": [
      "<class 'pandas.core.frame.DataFrame'>\n",
      "RangeIndex: 3604175 entries, 0 to 3604174\n",
      "Data columns (total 15 columns):\n",
      " #   Column                 Dtype  \n",
      "---  ------                 -----  \n",
      " 0   Year                   int64  \n",
      " 1   Month                  int64  \n",
      " 2   DayofMonth             int64  \n",
      " 3   DayOfWeek              int64  \n",
      " 4   Actual_Shipment_Time   float64\n",
      " 5   Planned_Shipment_Time  int64  \n",
      " 6   Planned_Delivery_Time  int64  \n",
      " 7   Carrier_Name           object \n",
      " 8   Carrier_Num            int64  \n",
      " 9   Planned_TimeofTravel   float64\n",
      " 10  Shipment_Delay         float64\n",
      " 11  Source                 object \n",
      " 12  Destination            object \n",
      " 13  Distance               int64  \n",
      " 14  Delivery_Status        float64\n",
      "dtypes: float64(4), int64(8), object(3)\n",
      "memory usage: 412.5+ MB\n"
     ]
    }
   ],
   "source": [
    "df.info()"
   ]
  },
  {
   "cell_type": "code",
   "execution_count": 4,
   "metadata": {},
   "outputs": [
    {
     "data": {
      "text/html": [
       "<div>\n",
       "<style scoped>\n",
       "    .dataframe tbody tr th:only-of-type {\n",
       "        vertical-align: middle;\n",
       "    }\n",
       "\n",
       "    .dataframe tbody tr th {\n",
       "        vertical-align: top;\n",
       "    }\n",
       "\n",
       "    .dataframe thead th {\n",
       "        text-align: right;\n",
       "    }\n",
       "</style>\n",
       "<table border=\"1\" class=\"dataframe\">\n",
       "  <thead>\n",
       "    <tr style=\"text-align: right;\">\n",
       "      <th></th>\n",
       "      <th>Year</th>\n",
       "      <th>Month</th>\n",
       "      <th>DayofMonth</th>\n",
       "      <th>DayOfWeek</th>\n",
       "      <th>Actual_Shipment_Time</th>\n",
       "      <th>Planned_Shipment_Time</th>\n",
       "      <th>Planned_Delivery_Time</th>\n",
       "      <th>Carrier_Name</th>\n",
       "      <th>Carrier_Num</th>\n",
       "      <th>Planned_TimeofTravel</th>\n",
       "      <th>Shipment_Delay</th>\n",
       "      <th>Source</th>\n",
       "      <th>Destination</th>\n",
       "      <th>Distance</th>\n",
       "      <th>Delivery_Status</th>\n",
       "    </tr>\n",
       "  </thead>\n",
       "  <tbody>\n",
       "    <tr>\n",
       "      <th>0</th>\n",
       "      <td>2008</td>\n",
       "      <td>1</td>\n",
       "      <td>3</td>\n",
       "      <td>4</td>\n",
       "      <td>2003.0</td>\n",
       "      <td>1955</td>\n",
       "      <td>2225</td>\n",
       "      <td>WN</td>\n",
       "      <td>335</td>\n",
       "      <td>150.0</td>\n",
       "      <td>8.0</td>\n",
       "      <td>IAD</td>\n",
       "      <td>TPA</td>\n",
       "      <td>810</td>\n",
       "      <td>0.0</td>\n",
       "    </tr>\n",
       "    <tr>\n",
       "      <th>1</th>\n",
       "      <td>2008</td>\n",
       "      <td>1</td>\n",
       "      <td>3</td>\n",
       "      <td>4</td>\n",
       "      <td>754.0</td>\n",
       "      <td>735</td>\n",
       "      <td>1000</td>\n",
       "      <td>WN</td>\n",
       "      <td>3231</td>\n",
       "      <td>145.0</td>\n",
       "      <td>19.0</td>\n",
       "      <td>IAD</td>\n",
       "      <td>TPA</td>\n",
       "      <td>810</td>\n",
       "      <td>1.0</td>\n",
       "    </tr>\n",
       "    <tr>\n",
       "      <th>2</th>\n",
       "      <td>2008</td>\n",
       "      <td>1</td>\n",
       "      <td>3</td>\n",
       "      <td>4</td>\n",
       "      <td>628.0</td>\n",
       "      <td>620</td>\n",
       "      <td>750</td>\n",
       "      <td>WN</td>\n",
       "      <td>448</td>\n",
       "      <td>90.0</td>\n",
       "      <td>8.0</td>\n",
       "      <td>IND</td>\n",
       "      <td>BWI</td>\n",
       "      <td>515</td>\n",
       "      <td>0.0</td>\n",
       "    </tr>\n",
       "    <tr>\n",
       "      <th>3</th>\n",
       "      <td>2008</td>\n",
       "      <td>1</td>\n",
       "      <td>3</td>\n",
       "      <td>4</td>\n",
       "      <td>926.0</td>\n",
       "      <td>930</td>\n",
       "      <td>1100</td>\n",
       "      <td>WN</td>\n",
       "      <td>1746</td>\n",
       "      <td>90.0</td>\n",
       "      <td>-4.0</td>\n",
       "      <td>IND</td>\n",
       "      <td>BWI</td>\n",
       "      <td>515</td>\n",
       "      <td>0.0</td>\n",
       "    </tr>\n",
       "    <tr>\n",
       "      <th>4</th>\n",
       "      <td>2008</td>\n",
       "      <td>1</td>\n",
       "      <td>3</td>\n",
       "      <td>4</td>\n",
       "      <td>1829.0</td>\n",
       "      <td>1755</td>\n",
       "      <td>1925</td>\n",
       "      <td>WN</td>\n",
       "      <td>3920</td>\n",
       "      <td>90.0</td>\n",
       "      <td>34.0</td>\n",
       "      <td>IND</td>\n",
       "      <td>BWI</td>\n",
       "      <td>515</td>\n",
       "      <td>1.0</td>\n",
       "    </tr>\n",
       "  </tbody>\n",
       "</table>\n",
       "</div>"
      ],
      "text/plain": [
       "   Year  Month  DayofMonth  DayOfWeek  Actual_Shipment_Time  \\\n",
       "0  2008      1           3          4                2003.0   \n",
       "1  2008      1           3          4                 754.0   \n",
       "2  2008      1           3          4                 628.0   \n",
       "3  2008      1           3          4                 926.0   \n",
       "4  2008      1           3          4                1829.0   \n",
       "\n",
       "   Planned_Shipment_Time  Planned_Delivery_Time Carrier_Name  Carrier_Num  \\\n",
       "0                   1955                   2225           WN          335   \n",
       "1                    735                   1000           WN         3231   \n",
       "2                    620                    750           WN          448   \n",
       "3                    930                   1100           WN         1746   \n",
       "4                   1755                   1925           WN         3920   \n",
       "\n",
       "   Planned_TimeofTravel  Shipment_Delay Source Destination  Distance  \\\n",
       "0                 150.0             8.0    IAD         TPA       810   \n",
       "1                 145.0            19.0    IAD         TPA       810   \n",
       "2                  90.0             8.0    IND         BWI       515   \n",
       "3                  90.0            -4.0    IND         BWI       515   \n",
       "4                  90.0            34.0    IND         BWI       515   \n",
       "\n",
       "   Delivery_Status  \n",
       "0              0.0  \n",
       "1              1.0  \n",
       "2              0.0  \n",
       "3              0.0  \n",
       "4              1.0  "
      ]
     },
     "execution_count": 4,
     "metadata": {},
     "output_type": "execute_result"
    }
   ],
   "source": [
    "df.head()"
   ]
  },
  {
   "cell_type": "code",
   "execution_count": 5,
   "metadata": {},
   "outputs": [],
   "source": [
    "df1=df[(df['Shipment_Delay']>5) & (df['Shipment_Delay']<15)]"
   ]
  },
  {
   "cell_type": "code",
   "execution_count": 6,
   "metadata": {},
   "outputs": [
    {
     "data": {
      "text/plain": [
       "0.0    335961\n",
       "Name: Delivery_Status, dtype: int64"
      ]
     },
     "execution_count": 6,
     "metadata": {},
     "output_type": "execute_result"
    }
   ],
   "source": [
    "df1['Delivery_Status'].value_counts()"
   ]
  },
  {
   "cell_type": "code",
   "execution_count": 7,
   "metadata": {},
   "outputs": [
    {
     "data": {
      "text/html": [
       "<div>\n",
       "<style scoped>\n",
       "    .dataframe tbody tr th:only-of-type {\n",
       "        vertical-align: middle;\n",
       "    }\n",
       "\n",
       "    .dataframe tbody tr th {\n",
       "        vertical-align: top;\n",
       "    }\n",
       "\n",
       "    .dataframe thead th {\n",
       "        text-align: right;\n",
       "    }\n",
       "</style>\n",
       "<table border=\"1\" class=\"dataframe\">\n",
       "  <thead>\n",
       "    <tr style=\"text-align: right;\">\n",
       "      <th></th>\n",
       "      <th>Year</th>\n",
       "      <th>Month</th>\n",
       "      <th>DayofMonth</th>\n",
       "      <th>DayOfWeek</th>\n",
       "      <th>Actual_Shipment_Time</th>\n",
       "      <th>Planned_Shipment_Time</th>\n",
       "      <th>Planned_Delivery_Time</th>\n",
       "      <th>Carrier_Name</th>\n",
       "      <th>Carrier_Num</th>\n",
       "      <th>Planned_TimeofTravel</th>\n",
       "      <th>Shipment_Delay</th>\n",
       "      <th>Source</th>\n",
       "      <th>Destination</th>\n",
       "      <th>Distance</th>\n",
       "      <th>Delivery_Status</th>\n",
       "    </tr>\n",
       "  </thead>\n",
       "  <tbody>\n",
       "    <tr>\n",
       "      <th>0</th>\n",
       "      <td>2008</td>\n",
       "      <td>1</td>\n",
       "      <td>3</td>\n",
       "      <td>4</td>\n",
       "      <td>2003.0</td>\n",
       "      <td>1955</td>\n",
       "      <td>2225</td>\n",
       "      <td>WN</td>\n",
       "      <td>335</td>\n",
       "      <td>150.0</td>\n",
       "      <td>8.0</td>\n",
       "      <td>IAD</td>\n",
       "      <td>TPA</td>\n",
       "      <td>810</td>\n",
       "      <td>0.0</td>\n",
       "    </tr>\n",
       "  </tbody>\n",
       "</table>\n",
       "</div>"
      ],
      "text/plain": [
       "   Year  Month  DayofMonth  DayOfWeek  Actual_Shipment_Time  \\\n",
       "0  2008      1           3          4                2003.0   \n",
       "\n",
       "   Planned_Shipment_Time  Planned_Delivery_Time Carrier_Name  Carrier_Num  \\\n",
       "0                   1955                   2225           WN          335   \n",
       "\n",
       "   Planned_TimeofTravel  Shipment_Delay Source Destination  Distance  \\\n",
       "0                 150.0             8.0    IAD         TPA       810   \n",
       "\n",
       "   Delivery_Status  \n",
       "0              0.0  "
      ]
     },
     "execution_count": 7,
     "metadata": {},
     "output_type": "execute_result"
    }
   ],
   "source": [
    "df[:1]"
   ]
  },
  {
   "cell_type": "code",
   "execution_count": 8,
   "metadata": {},
   "outputs": [
    {
     "data": {
      "text/plain": [
       "array(['TPA', 'BWI', 'JAX', 'LAS', 'MCI', 'MCO', 'MDW', 'PHX', 'FLL',\n",
       "       'PBI', 'RSW', 'HOU', 'BHM', 'BNA', 'IND', 'ORF', 'PHL', 'ABQ',\n",
       "       'ALB', 'AMA', 'AUS', 'BDL', 'BOI', 'BUF', 'BUR', 'CLE', 'CMH',\n",
       "       'DEN', 'ELP', 'GEG', 'IAD', 'ISP', 'LAX', 'LBB', 'LIT', 'MAF',\n",
       "       'MHT', 'MSY', 'OAK', 'OKC', 'OMA', 'ONT', 'PDX', 'PIT', 'PVD',\n",
       "       'RDU', 'RNO', 'SAN', 'SAT', 'SDF', 'SEA', 'SFO', 'SJC', 'SLC',\n",
       "       'SMF', 'SNA', 'STL', 'TUL', 'TUS', 'DAL', 'DTW', 'JAN', 'HRL',\n",
       "       'CRP', 'EWR', 'IAH', 'XNA', 'DCA', 'GSO', 'ROC', 'MYR', 'SYR',\n",
       "       'ATL', 'SAV', 'RIC', 'COS', 'FAT', 'MRY', 'LGB', 'BFL', 'EUG',\n",
       "       'ICT', 'MSN', 'CAE', 'DAY', 'BTR', 'TLH', 'DFW', 'LFT', 'PWM',\n",
       "       'SHV', 'MKE', 'CHS', 'CRW', 'HSV', 'TYS', 'MTJ', 'MGM', 'MFE',\n",
       "       'MSP', 'GSP', 'GRR', 'MEM', 'BTV', 'CLT', 'BRO', 'CVG', 'LGA',\n",
       "       'VPS', 'LEX', 'BPT', 'PNS', 'ORD', 'ABE', 'LRD', 'BGR', 'GRK',\n",
       "       'SRQ', 'LCH', 'AEX', 'AVL', 'GPT', 'MLU', 'MOB', 'BOS', 'DSM',\n",
       "       'CHA', 'CLL', 'PSP', 'DAB', 'ILM', 'JFK', 'MDT', 'ASE', 'COD',\n",
       "       'CPR', 'DRO', 'EGE', 'GJT', 'HDN', 'RAP', 'ITO', 'KOA', 'LIH',\n",
       "       'OGG', 'ROA', 'SPI', 'HNL', 'MFR', 'SBA', 'SBP', 'YUM', 'ATW',\n",
       "       'AVP', 'BMI', 'CAK', 'CID', 'CWA', 'FSD', 'FWA', 'GRB', 'LAN',\n",
       "       'MBS', 'SBN', 'CLD', 'FLG', 'TEX', 'TVC', 'MLB', 'SGF', 'MIA',\n",
       "       'HPN', 'TRI', 'TWF', 'PIH', 'SUN', 'EKO', 'SGU', 'PSC', 'BTM',\n",
       "       'BIL', 'FAR', 'IDA', 'BZN', 'MSO', 'FCA', 'HLN', 'GTF', 'LWS',\n",
       "       'YKM', 'SLE', 'RDM', 'BLI', 'JAC', 'IYK', 'SMX', 'ACV', 'OXR',\n",
       "       'RDD', 'MOD', 'CEC', 'CIC', 'IPL', 'PIA', 'LNK', 'GUC', 'AZO',\n",
       "       'MLI', 'PMD', 'BIS', 'RFD', 'CDC', 'OGD', 'STT', 'SJU', 'ANC',\n",
       "       'STX', 'PHF', 'MCN', 'VLD', 'CSG', 'SWF', 'BQK', 'DHN', 'ABY',\n",
       "       'AGS', 'MEI', 'FAY', 'EWN', 'SCE', 'EYW', 'EVV', 'PFN', 'GNV',\n",
       "       'OAJ', 'FNT', 'CHO', 'FSM', 'FLO', 'HHH', 'TOL', 'LYH', 'GTR',\n",
       "       'TUP', 'ACY', 'LAW', 'TYR', 'ABI', 'TXK', 'ACT', 'SPS', 'SJT',\n",
       "       'GGG', 'CMI', 'ROW', 'MQT', 'RST', 'LSE', 'DBQ', 'DLH', 'GFK',\n",
       "       'MOT', 'RHI', 'SUX', 'CMX', 'BGM', 'PLN', 'ERI', 'ALO', 'ELM',\n",
       "       'FAI', 'KTN', 'SIT', 'JNU', 'WRG', 'PSG', 'CDV', 'BET', 'OTZ',\n",
       "       'YAK', 'OME', 'ADQ', 'BRW', 'SCC', 'ADK', 'PSE', 'BQN', 'GCC',\n",
       "       'RKS', 'CYS', 'MKG', 'AKN', 'DLG', 'LWB', 'ACK', 'WYS', 'INL',\n",
       "       'BJI', 'GST'], dtype=object)"
      ]
     },
     "execution_count": 8,
     "metadata": {},
     "output_type": "execute_result"
    }
   ],
   "source": [
    "df['Destination'].unique()"
   ]
  },
  {
   "cell_type": "code",
   "execution_count": 9,
   "metadata": {},
   "outputs": [
    {
     "data": {
      "text/html": [
       "<div>\n",
       "<style scoped>\n",
       "    .dataframe tbody tr th:only-of-type {\n",
       "        vertical-align: middle;\n",
       "    }\n",
       "\n",
       "    .dataframe tbody tr th {\n",
       "        vertical-align: top;\n",
       "    }\n",
       "\n",
       "    .dataframe thead th {\n",
       "        text-align: right;\n",
       "    }\n",
       "</style>\n",
       "<table border=\"1\" class=\"dataframe\">\n",
       "  <thead>\n",
       "    <tr style=\"text-align: right;\">\n",
       "      <th></th>\n",
       "      <th>Year</th>\n",
       "      <th>Month</th>\n",
       "      <th>DayofMonth</th>\n",
       "      <th>DayOfWeek</th>\n",
       "      <th>Actual_Shipment_Time</th>\n",
       "      <th>Planned_Shipment_Time</th>\n",
       "      <th>Planned_Delivery_Time</th>\n",
       "      <th>Carrier_Num</th>\n",
       "      <th>Planned_TimeofTravel</th>\n",
       "      <th>Shipment_Delay</th>\n",
       "      <th>Distance</th>\n",
       "      <th>Delivery_Status</th>\n",
       "    </tr>\n",
       "  </thead>\n",
       "  <tbody>\n",
       "    <tr>\n",
       "      <th>Year</th>\n",
       "      <td>NaN</td>\n",
       "      <td>NaN</td>\n",
       "      <td>NaN</td>\n",
       "      <td>NaN</td>\n",
       "      <td>NaN</td>\n",
       "      <td>NaN</td>\n",
       "      <td>NaN</td>\n",
       "      <td>NaN</td>\n",
       "      <td>NaN</td>\n",
       "      <td>NaN</td>\n",
       "      <td>NaN</td>\n",
       "      <td>NaN</td>\n",
       "    </tr>\n",
       "    <tr>\n",
       "      <th>Month</th>\n",
       "      <td>NaN</td>\n",
       "      <td>1.000000</td>\n",
       "      <td>-0.001812</td>\n",
       "      <td>0.012715</td>\n",
       "      <td>-0.005670</td>\n",
       "      <td>-0.001967</td>\n",
       "      <td>-0.005680</td>\n",
       "      <td>0.003030</td>\n",
       "      <td>-0.003766</td>\n",
       "      <td>-0.015301</td>\n",
       "      <td>0.006691</td>\n",
       "      <td>-0.021704</td>\n",
       "    </tr>\n",
       "    <tr>\n",
       "      <th>DayofMonth</th>\n",
       "      <td>NaN</td>\n",
       "      <td>-0.001812</td>\n",
       "      <td>1.000000</td>\n",
       "      <td>-0.019734</td>\n",
       "      <td>-0.002263</td>\n",
       "      <td>-0.001084</td>\n",
       "      <td>-0.001410</td>\n",
       "      <td>0.001572</td>\n",
       "      <td>0.000338</td>\n",
       "      <td>-0.014667</td>\n",
       "      <td>0.000982</td>\n",
       "      <td>-0.020104</td>\n",
       "    </tr>\n",
       "    <tr>\n",
       "      <th>DayOfWeek</th>\n",
       "      <td>NaN</td>\n",
       "      <td>0.012715</td>\n",
       "      <td>-0.019734</td>\n",
       "      <td>1.000000</td>\n",
       "      <td>0.006386</td>\n",
       "      <td>0.006202</td>\n",
       "      <td>0.004809</td>\n",
       "      <td>-0.004535</td>\n",
       "      <td>0.016244</td>\n",
       "      <td>0.009282</td>\n",
       "      <td>0.017889</td>\n",
       "      <td>0.012399</td>\n",
       "    </tr>\n",
       "    <tr>\n",
       "      <th>Actual_Shipment_Time</th>\n",
       "      <td>NaN</td>\n",
       "      <td>-0.005670</td>\n",
       "      <td>-0.002263</td>\n",
       "      <td>0.006386</td>\n",
       "      <td>1.000000</td>\n",
       "      <td>0.966004</td>\n",
       "      <td>0.783085</td>\n",
       "      <td>-0.007011</td>\n",
       "      <td>-0.012716</td>\n",
       "      <td>0.212459</td>\n",
       "      <td>-0.014496</td>\n",
       "      <td>0.245400</td>\n",
       "    </tr>\n",
       "    <tr>\n",
       "      <th>Planned_Shipment_Time</th>\n",
       "      <td>NaN</td>\n",
       "      <td>-0.001967</td>\n",
       "      <td>-0.001084</td>\n",
       "      <td>0.006202</td>\n",
       "      <td>0.966004</td>\n",
       "      <td>1.000000</td>\n",
       "      <td>0.781966</td>\n",
       "      <td>-0.012320</td>\n",
       "      <td>-0.009922</td>\n",
       "      <td>0.145758</td>\n",
       "      <td>-0.009453</td>\n",
       "      <td>0.187294</td>\n",
       "    </tr>\n",
       "    <tr>\n",
       "      <th>Planned_Delivery_Time</th>\n",
       "      <td>NaN</td>\n",
       "      <td>-0.005680</td>\n",
       "      <td>-0.001410</td>\n",
       "      <td>0.004809</td>\n",
       "      <td>0.783085</td>\n",
       "      <td>0.781966</td>\n",
       "      <td>1.000000</td>\n",
       "      <td>-0.022753</td>\n",
       "      <td>0.050734</td>\n",
       "      <td>0.139579</td>\n",
       "      <td>0.040286</td>\n",
       "      <td>0.175581</td>\n",
       "    </tr>\n",
       "    <tr>\n",
       "      <th>Carrier_Num</th>\n",
       "      <td>NaN</td>\n",
       "      <td>0.003030</td>\n",
       "      <td>0.001572</td>\n",
       "      <td>-0.004535</td>\n",
       "      <td>-0.007011</td>\n",
       "      <td>-0.012320</td>\n",
       "      <td>-0.022753</td>\n",
       "      <td>1.000000</td>\n",
       "      <td>-0.327497</td>\n",
       "      <td>0.013630</td>\n",
       "      <td>-0.350962</td>\n",
       "      <td>0.011538</td>\n",
       "    </tr>\n",
       "    <tr>\n",
       "      <th>Planned_TimeofTravel</th>\n",
       "      <td>NaN</td>\n",
       "      <td>-0.003766</td>\n",
       "      <td>0.000338</td>\n",
       "      <td>0.016244</td>\n",
       "      <td>-0.012716</td>\n",
       "      <td>-0.009922</td>\n",
       "      <td>0.050734</td>\n",
       "      <td>-0.327497</td>\n",
       "      <td>1.000000</td>\n",
       "      <td>0.029844</td>\n",
       "      <td>0.982167</td>\n",
       "      <td>0.025748</td>\n",
       "    </tr>\n",
       "    <tr>\n",
       "      <th>Shipment_Delay</th>\n",
       "      <td>NaN</td>\n",
       "      <td>-0.015301</td>\n",
       "      <td>-0.014667</td>\n",
       "      <td>0.009282</td>\n",
       "      <td>0.212459</td>\n",
       "      <td>0.145758</td>\n",
       "      <td>0.139579</td>\n",
       "      <td>0.013630</td>\n",
       "      <td>0.029844</td>\n",
       "      <td>1.000000</td>\n",
       "      <td>0.021445</td>\n",
       "      <td>0.678835</td>\n",
       "    </tr>\n",
       "    <tr>\n",
       "      <th>Distance</th>\n",
       "      <td>NaN</td>\n",
       "      <td>0.006691</td>\n",
       "      <td>0.000982</td>\n",
       "      <td>0.017889</td>\n",
       "      <td>-0.014496</td>\n",
       "      <td>-0.009453</td>\n",
       "      <td>0.040286</td>\n",
       "      <td>-0.350962</td>\n",
       "      <td>0.982167</td>\n",
       "      <td>0.021445</td>\n",
       "      <td>1.000000</td>\n",
       "      <td>0.018859</td>\n",
       "    </tr>\n",
       "    <tr>\n",
       "      <th>Delivery_Status</th>\n",
       "      <td>NaN</td>\n",
       "      <td>-0.021704</td>\n",
       "      <td>-0.020104</td>\n",
       "      <td>0.012399</td>\n",
       "      <td>0.245400</td>\n",
       "      <td>0.187294</td>\n",
       "      <td>0.175581</td>\n",
       "      <td>0.011538</td>\n",
       "      <td>0.025748</td>\n",
       "      <td>0.678835</td>\n",
       "      <td>0.018859</td>\n",
       "      <td>1.000000</td>\n",
       "    </tr>\n",
       "  </tbody>\n",
       "</table>\n",
       "</div>"
      ],
      "text/plain": [
       "                       Year     Month  DayofMonth  DayOfWeek  \\\n",
       "Year                    NaN       NaN         NaN        NaN   \n",
       "Month                   NaN  1.000000   -0.001812   0.012715   \n",
       "DayofMonth              NaN -0.001812    1.000000  -0.019734   \n",
       "DayOfWeek               NaN  0.012715   -0.019734   1.000000   \n",
       "Actual_Shipment_Time    NaN -0.005670   -0.002263   0.006386   \n",
       "Planned_Shipment_Time   NaN -0.001967   -0.001084   0.006202   \n",
       "Planned_Delivery_Time   NaN -0.005680   -0.001410   0.004809   \n",
       "Carrier_Num             NaN  0.003030    0.001572  -0.004535   \n",
       "Planned_TimeofTravel    NaN -0.003766    0.000338   0.016244   \n",
       "Shipment_Delay          NaN -0.015301   -0.014667   0.009282   \n",
       "Distance                NaN  0.006691    0.000982   0.017889   \n",
       "Delivery_Status         NaN -0.021704   -0.020104   0.012399   \n",
       "\n",
       "                       Actual_Shipment_Time  Planned_Shipment_Time  \\\n",
       "Year                                    NaN                    NaN   \n",
       "Month                             -0.005670              -0.001967   \n",
       "DayofMonth                        -0.002263              -0.001084   \n",
       "DayOfWeek                          0.006386               0.006202   \n",
       "Actual_Shipment_Time               1.000000               0.966004   \n",
       "Planned_Shipment_Time              0.966004               1.000000   \n",
       "Planned_Delivery_Time              0.783085               0.781966   \n",
       "Carrier_Num                       -0.007011              -0.012320   \n",
       "Planned_TimeofTravel              -0.012716              -0.009922   \n",
       "Shipment_Delay                     0.212459               0.145758   \n",
       "Distance                          -0.014496              -0.009453   \n",
       "Delivery_Status                    0.245400               0.187294   \n",
       "\n",
       "                       Planned_Delivery_Time  Carrier_Num  \\\n",
       "Year                                     NaN          NaN   \n",
       "Month                              -0.005680     0.003030   \n",
       "DayofMonth                         -0.001410     0.001572   \n",
       "DayOfWeek                           0.004809    -0.004535   \n",
       "Actual_Shipment_Time                0.783085    -0.007011   \n",
       "Planned_Shipment_Time               0.781966    -0.012320   \n",
       "Planned_Delivery_Time               1.000000    -0.022753   \n",
       "Carrier_Num                        -0.022753     1.000000   \n",
       "Planned_TimeofTravel                0.050734    -0.327497   \n",
       "Shipment_Delay                      0.139579     0.013630   \n",
       "Distance                            0.040286    -0.350962   \n",
       "Delivery_Status                     0.175581     0.011538   \n",
       "\n",
       "                       Planned_TimeofTravel  Shipment_Delay  Distance  \\\n",
       "Year                                    NaN             NaN       NaN   \n",
       "Month                             -0.003766       -0.015301  0.006691   \n",
       "DayofMonth                         0.000338       -0.014667  0.000982   \n",
       "DayOfWeek                          0.016244        0.009282  0.017889   \n",
       "Actual_Shipment_Time              -0.012716        0.212459 -0.014496   \n",
       "Planned_Shipment_Time             -0.009922        0.145758 -0.009453   \n",
       "Planned_Delivery_Time              0.050734        0.139579  0.040286   \n",
       "Carrier_Num                       -0.327497        0.013630 -0.350962   \n",
       "Planned_TimeofTravel               1.000000        0.029844  0.982167   \n",
       "Shipment_Delay                     0.029844        1.000000  0.021445   \n",
       "Distance                           0.982167        0.021445  1.000000   \n",
       "Delivery_Status                    0.025748        0.678835  0.018859   \n",
       "\n",
       "                       Delivery_Status  \n",
       "Year                               NaN  \n",
       "Month                        -0.021704  \n",
       "DayofMonth                   -0.020104  \n",
       "DayOfWeek                     0.012399  \n",
       "Actual_Shipment_Time          0.245400  \n",
       "Planned_Shipment_Time         0.187294  \n",
       "Planned_Delivery_Time         0.175581  \n",
       "Carrier_Num                   0.011538  \n",
       "Planned_TimeofTravel          0.025748  \n",
       "Shipment_Delay                0.678835  \n",
       "Distance                      0.018859  \n",
       "Delivery_Status               1.000000  "
      ]
     },
     "execution_count": 9,
     "metadata": {},
     "output_type": "execute_result"
    }
   ],
   "source": [
    "df.corr()"
   ]
  },
  {
   "cell_type": "code",
   "execution_count": 10,
   "metadata": {},
   "outputs": [
    {
     "data": {
      "text/plain": [
       "<matplotlib.axes._subplots.AxesSubplot at 0x1b527e7da90>"
      ]
     },
     "execution_count": 10,
     "metadata": {},
     "output_type": "execute_result"
    },
    {
     "data": {
      "image/png": "[encoded data removed]",
      "text/plain": [
       "<Figure size 1080x720 with 2 Axes>"
      ]
     },
     "metadata": {
      "needs_background": "light"
     },
     "output_type": "display_data"
    }
   ],
   "source": [
    "plt.figure(figsize=(15,10))\n",
    "sns.heatmap(df.corr(),annot=True)"
   ]
  },
  {
   "cell_type": "markdown",
   "metadata": {},
   "source": [
    "### Missisng Value Analysis"
   ]
  },
  {
   "cell_type": "code",
   "execution_count": 11,
   "metadata": {},
   "outputs": [
    {
     "data": {
      "text/plain": [
       "Year                         0\n",
       "Month                        0\n",
       "DayofMonth                   0\n",
       "DayOfWeek                    0\n",
       "Actual_Shipment_Time     81602\n",
       "Planned_Shipment_Time        0\n",
       "Planned_Delivery_Time        0\n",
       "Carrier_Name                 0\n",
       "Carrier_Num                  0\n",
       "Planned_TimeofTravel       547\n",
       "Shipment_Delay           81602\n",
       "Source                       0\n",
       "Destination                  0\n",
       "Distance                     0\n",
       "Delivery_Status          81602\n",
       "dtype: int64"
      ]
     },
     "execution_count": 11,
     "metadata": {},
     "output_type": "execute_result"
    }
   ],
   "source": [
    "df.isnull().sum()"
   ]
  },
  {
   "cell_type": "code",
   "execution_count": 12,
   "metadata": {},
   "outputs": [],
   "source": [
    "df=df.dropna()"
   ]
  },
  {
   "cell_type": "markdown",
   "metadata": {},
   "source": [
    "### Numerical Value Analysis"
   ]
  },
  {
   "cell_type": "code",
   "execution_count": 13,
   "metadata": {},
   "outputs": [
    {
     "data": {
      "text/plain": [
       "0.0    0.796122\n",
       "1.0    0.203878\n",
       "Name: Delivery_Status, dtype: float64"
      ]
     },
     "execution_count": 13,
     "metadata": {},
     "output_type": "execute_result"
    }
   ],
   "source": [
    "df['Delivery_Status'].value_counts('percentage')"
   ]
  },
  {
   "cell_type": "code",
   "execution_count": 14,
   "metadata": {},
   "outputs": [
    {
     "data": {
      "image/png": "[encoded data removed]",
      "text/plain": [
       "<Figure size 432x288 with 1 Axes>"
      ]
     },
     "metadata": {
      "needs_background": "light"
     },
     "output_type": "display_data"
    },
    {
     "data": {
      "image/png": "[encoded data removed]",
      "text/plain": [
       "<Figure size 432x288 with 1 Axes>"
      ]
     },
     "metadata": {
      "needs_background": "light"
     },
     "output_type": "display_data"
    },
    {
     "data": {
      "image/png": "[encoded data removed]",
      "text/plain": [
       "<Figure size 432x288 with 1 Axes>"
      ]
     },
     "metadata": {
      "needs_background": "light"
     },
     "output_type": "display_data"
    },
    {
     "data": {
      "image/png": "[encoded data removed]",
      "text/plain": [
       "<Figure size 432x288 with 1 Axes>"
      ]
     },
     "metadata": {
      "needs_background": "light"
     },
     "output_type": "display_data"
    },
    {
     "data": {
      "image/png": "[encoded data removed]",
      "text/plain": [
       "<Figure size 432x288 with 1 Axes>"
      ]
     },
     "metadata": {
      "needs_background": "light"
     },
     "output_type": "display_data"
    },
    {
     "data": {
      "image/png": "[encoded data removed]",
      "text/plain": [
       "<Figure size 432x288 with 1 Axes>"
      ]
     },
     "metadata": {
      "needs_background": "light"
     },
     "output_type": "display_data"
    },
    {
     "data": {
      "image/png": "[encoded data removed]",
      "text/plain": [
       "<Figure size 432x288 with 1 Axes>"
      ]
     },
     "metadata": {
      "needs_background": "light"
     },
     "output_type": "display_data"
    },
    {
     "data": {
      "image/png": "[encoded data removed]",
      "text/plain": [
       "<Figure size 432x288 with 1 Axes>"
      ]
     },
     "metadata": {
      "needs_background": "light"
     },
     "output_type": "display_data"
    },
    {
     "data": {
      "image/png": "[encoded data removed]",
      "text/plain": [
       "<Figure size 432x288 with 1 Axes>"
      ]
     },
     "metadata": {
      "needs_background": "light"
     },
     "output_type": "display_data"
    },
    {
     "data": {
      "image/png": "[encoded data removed]",
      "text/plain": [
       "<Figure size 432x288 with 1 Axes>"
      ]
     },
     "metadata": {
      "needs_background": "light"
     },
     "output_type": "display_data"
    },
    {
     "data": {
      "image/png": "[encoded data removed]",
      "text/plain": [
       "<Figure size 432x288 with 1 Axes>"
      ]
     },
     "metadata": {
      "needs_background": "light"
     },
     "output_type": "display_data"
    },
    {
     "data": {
      "image/png": "[encoded data removed]",
      "text/plain": [
       "<Figure size 432x288 with 1 Axes>"
      ]
     },
     "metadata": {
      "needs_background": "light"
     },
     "output_type": "display_data"
    }
   ],
   "source": [
    "feature_Numeric=[feature for feature in df.columns if df[feature].dtype!='O']\n",
    "for feature in feature_Numeric:\n",
    "    plt.boxplot(df[feature])\n",
    "    plt.xlabel(feature)\n",
    "    plt.show()\n",
    "    \n",
    "    "
   ]
  },
  {
   "cell_type": "code",
   "execution_count": 15,
   "metadata": {},
   "outputs": [
    {
     "data": {
      "text/plain": [
       "<matplotlib.axes._subplots.AxesSubplot at 0x1b528f97250>"
      ]
     },
     "execution_count": 15,
     "metadata": {},
     "output_type": "execute_result"
    },
    {
     "data": {
      "image/png": "[encoded data removed]",
      "text/plain": [
       "<Figure size 1440x720 with 1 Axes>"
      ]
     },
     "metadata": {
      "needs_background": "light"
     },
     "output_type": "display_data"
    }
   ],
   "source": [
    "# feature_Numeric=[feature for feature in df.columns if df[feature].dtype!='O']\n",
    "# for feature in feature_Numeric:\n",
    "pd.crosstab(df['Month'],df['Delivery_Status']).plot(kind='bar',figsize=(20,10))\n",
    "    \n",
    "    "
   ]
  },
  {
   "cell_type": "code",
   "execution_count": 16,
   "metadata": {},
   "outputs": [],
   "source": [
    "# feature_Numeric=[feature for feature in df.columns if df[feature].dtype!='O']\n",
    "# for feature in feature_Numeric:\n",
    "#     plt.scatter(df[feature],df['Delivery_Status'])\n",
    "#     plt.xlabel(feature)\n",
    "#     plt.show()\n",
    "    \n",
    "    "
   ]
  },
  {
   "cell_type": "code",
   "execution_count": 17,
   "metadata": {},
   "outputs": [
    {
     "data": {
      "image/png": "[encoded data removed]",
      "text/plain": [
       "<Figure size 432x288 with 1 Axes>"
      ]
     },
     "metadata": {
      "needs_background": "light"
     },
     "output_type": "display_data"
    },
    {
     "data": {
      "image/png": "[encoded data removed]",
      "text/plain": [
       "<Figure size 432x288 with 1 Axes>"
      ]
     },
     "metadata": {
      "needs_background": "light"
     },
     "output_type": "display_data"
    },
    {
     "data": {
      "image/png": "[encoded data removed]",
      "text/plain": [
       "<Figure size 432x288 with 1 Axes>"
      ]
     },
     "metadata": {
      "needs_background": "light"
     },
     "output_type": "display_data"
    },
    {
     "data": {
      "image/png": "[encoded data removed]",
      "text/plain": [
       "<Figure size 432x288 with 1 Axes>"
      ]
     },
     "metadata": {
      "needs_background": "light"
     },
     "output_type": "display_data"
    },
    {
     "data": {
      "image/png": "[encoded data removed]",
      "text/plain": [
       "<Figure size 432x288 with 1 Axes>"
      ]
     },
     "metadata": {
      "needs_background": "light"
     },
     "output_type": "display_data"
    },
    {
     "data": {
      "image/png": "[encoded data removed]",
      "text/plain": [
       "<Figure size 432x288 with 1 Axes>"
      ]
     },
     "metadata": {
      "needs_background": "light"
     },
     "output_type": "display_data"
    },
    {
     "data": {
      "image/png": "[encoded data removed]",
      "text/plain": [
       "<Figure size 432x288 with 1 Axes>"
      ]
     },
     "metadata": {
      "needs_background": "light"
     },
     "output_type": "display_data"
    },
    {
     "data": {
      "image/png": "[encoded data removed]",
      "text/plain": [
       "<Figure size 432x288 with 1 Axes>"
      ]
     },
     "metadata": {
      "needs_background": "light"
     },
     "output_type": "display_data"
    },
    {
     "data": {
      "image/png": "[encoded data removed]",
      "text/plain": [
       "<Figure size 432x288 with 1 Axes>"
      ]
     },
     "metadata": {
      "needs_background": "light"
     },
     "output_type": "display_data"
    },
    {
     "data": {
      "image/png": "[encoded data removed]",
      "text/plain": [
       "<Figure size 432x288 with 1 Axes>"
      ]
     },
     "metadata": {
      "needs_background": "light"
     },
     "output_type": "display_data"
    },
    {
     "data": {
      "image/png": "[encoded data removed]",
      "text/plain": [
       "<Figure size 432x288 with 1 Axes>"
      ]
     },
     "metadata": {
      "needs_background": "light"
     },
     "output_type": "display_data"
    },
    {
     "data": {
      "image/png": "[encoded data removed]",
      "text/plain": [
       "<Figure size 432x288 with 1 Axes>"
      ]
     },
     "metadata": {
      "needs_background": "light"
     },
     "output_type": "display_data"
    }
   ],
   "source": [
    "feature_Numeric=[feature for feature in df.columns if df[feature].dtype!='O']\n",
    "for feature in feature_Numeric:\n",
    "    plt.plot()\n",
    "    plt.hist(df[feature],bins=30)\n",
    "    plt.xlabel(feature)\n",
    "    plt.show()\n",
    "    \n",
    "    "
   ]
  },
  {
   "cell_type": "markdown",
   "metadata": {},
   "source": [
    "### Categorical Value Analysis"
   ]
  },
  {
   "cell_type": "code",
   "execution_count": 18,
   "metadata": {},
   "outputs": [
    {
     "data": {
      "image/png": "[encoded data removed]",
      "text/plain": [
       "<Figure size 2160x1440 with 1 Axes>"
      ]
     },
     "metadata": {
      "needs_background": "light"
     },
     "output_type": "display_data"
    },
    {
     "data": {
      "image/png": "[encoded data removed]",
      "text/plain": [
       "<Figure size 2160x1440 with 1 Axes>"
      ]
     },
     "metadata": {
      "needs_background": "light"
     },
     "output_type": "display_data"
    },
    {
     "data": {
      "image/png": "[encoded data removed]",
      "text/plain": [
       "<Figure size 2160x1440 with 1 Axes>"
      ]
     },
     "metadata": {
      "needs_background": "light"
     },
     "output_type": "display_data"
    }
   ],
   "source": [
    "feature_categorical=[feature for feature in df.columns if df[feature].dtype=='O']\n",
    "for feature in feature_categorical:\n",
    "    pd.crosstab(df[feature],df['Delivery_Status']).plot(kind='bar',figsize=(30,20))"
   ]
  },
  {
   "cell_type": "code",
   "execution_count": 19,
   "metadata": {},
   "outputs": [
    {
     "name": "stdout",
     "output_type": "stream",
     "text": [
      "WN    597366\n",
      "AA    295685\n",
      "OO    285274\n",
      "MQ    243102\n",
      "UA    227599\n",
      "US    227576\n",
      "DL    221916\n",
      "XE    203345\n",
      "NW    184428\n",
      "CO    153934\n",
      "EV    137940\n",
      "FL    132384\n",
      "9E    127034\n",
      "YV    123703\n",
      "OH    102903\n",
      "B6     98879\n",
      "AS     75377\n",
      "F9     47734\n",
      "HA     28230\n",
      "AQ      7758\n",
      "Name: Carrier_Name, dtype: int64\n",
      "ATL    203756\n",
      "ORD    168683\n",
      "DFW    136553\n",
      "DEN    118911\n",
      "LAX    110068\n",
      "        ...  \n",
      "AKN        41\n",
      "BJI        25\n",
      "INL        24\n",
      "GST        23\n",
      "TUP        10\n",
      "Name: Source, Length: 297, dtype: int64\n",
      "ATL    203275\n",
      "ORD    168109\n",
      "DFW    136365\n",
      "DEN    118778\n",
      "LAX    110008\n",
      "        ...  \n",
      "INL        25\n",
      "GST        23\n",
      "TUP         9\n",
      "CYS         2\n",
      "OGD         2\n",
      "Name: Destination, Length: 299, dtype: int64\n"
     ]
    }
   ],
   "source": [
    "for feature in feature_categorical:\n",
    "    print(df[feature].value_counts())"
   ]
  },
  {
   "cell_type": "code",
   "execution_count": 20,
   "metadata": {},
   "outputs": [
    {
     "data": {
      "text/plain": [
       "ATL    203756\n",
       "ORD    168683\n",
       "DFW    136553\n",
       "DEN    118911\n",
       "LAX    110068\n",
       "PHX    102772\n",
       "IAH     93630\n",
       "LAS     88569\n",
       "DTW     82788\n",
       "SLC     71555\n",
       "EWR     70026\n",
       "SFO     68440\n",
       "MCO     67961\n",
       "MSP     67554\n",
       "CLT     62242\n",
       "BOS     58714\n",
       "JFK     58007\n",
       "Name: Source, dtype: int64"
      ]
     },
     "execution_count": 20,
     "metadata": {},
     "output_type": "execute_result"
    }
   ],
   "source": [
    "df['Source'].value_counts().nlargest(17)"
   ]
  },
  {
   "cell_type": "code",
   "execution_count": 21,
   "metadata": {},
   "outputs": [
    {
     "data": {
      "text/plain": [
       "59419.59999999996"
      ]
     },
     "execution_count": 21,
     "metadata": {},
     "output_type": "execute_result"
    }
   ],
   "source": [
    "df['Source'].value_counts().quantile(0.95)\n"
   ]
  },
  {
   "cell_type": "code",
   "execution_count": 22,
   "metadata": {},
   "outputs": [
    {
     "data": {
      "text/plain": [
       "ATL    203275\n",
       "ORD    168109\n",
       "DFW    136365\n",
       "DEN    118778\n",
       "LAX    110008\n",
       "PHX    102338\n",
       "IAH     93581\n",
       "LAS     88648\n",
       "DTW     82550\n",
       "SLC     71389\n",
       "EWR     69961\n",
       "SFO     68365\n",
       "MCO     68002\n",
       "MSP     67401\n",
       "CLT     62095\n",
       "BOS     58777\n",
       "JFK     57989\n",
       "Name: Destination, dtype: int64"
      ]
     },
     "execution_count": 22,
     "metadata": {},
     "output_type": "execute_result"
    }
   ],
   "source": [
    "df['Destination'].value_counts().nlargest(17)"
   ]
  },
  {
   "cell_type": "code",
   "execution_count": 23,
   "metadata": {},
   "outputs": [
    {
     "data": {
      "text/plain": [
       "59108.79999999989"
      ]
     },
     "execution_count": 23,
     "metadata": {},
     "output_type": "execute_result"
    }
   ],
   "source": [
    "df['Destination'].value_counts().quantile(0.95)"
   ]
  },
  {
   "cell_type": "code",
   "execution_count": 24,
   "metadata": {},
   "outputs": [
    {
     "data": {
      "text/html": [
       "<div>\n",
       "<style scoped>\n",
       "    .dataframe tbody tr th:only-of-type {\n",
       "        vertical-align: middle;\n",
       "    }\n",
       "\n",
       "    .dataframe tbody tr th {\n",
       "        vertical-align: top;\n",
       "    }\n",
       "\n",
       "    .dataframe thead th {\n",
       "        text-align: right;\n",
       "    }\n",
       "</style>\n",
       "<table border=\"1\" class=\"dataframe\">\n",
       "  <thead>\n",
       "    <tr style=\"text-align: right;\">\n",
       "      <th></th>\n",
       "      <th>Year</th>\n",
       "      <th>Month</th>\n",
       "      <th>DayofMonth</th>\n",
       "      <th>DayOfWeek</th>\n",
       "      <th>Actual_Shipment_Time</th>\n",
       "      <th>Planned_Shipment_Time</th>\n",
       "      <th>Planned_Delivery_Time</th>\n",
       "      <th>Carrier_Name</th>\n",
       "      <th>Carrier_Num</th>\n",
       "      <th>Planned_TimeofTravel</th>\n",
       "      <th>Shipment_Delay</th>\n",
       "      <th>Source</th>\n",
       "      <th>Destination</th>\n",
       "      <th>Distance</th>\n",
       "      <th>Delivery_Status</th>\n",
       "    </tr>\n",
       "  </thead>\n",
       "  <tbody>\n",
       "    <tr>\n",
       "      <th>0</th>\n",
       "      <td>2008</td>\n",
       "      <td>1</td>\n",
       "      <td>3</td>\n",
       "      <td>4</td>\n",
       "      <td>2003.0</td>\n",
       "      <td>1955</td>\n",
       "      <td>2225</td>\n",
       "      <td>WN</td>\n",
       "      <td>335</td>\n",
       "      <td>150.0</td>\n",
       "      <td>8.0</td>\n",
       "      <td>IAD</td>\n",
       "      <td>TPA</td>\n",
       "      <td>810</td>\n",
       "      <td>0.0</td>\n",
       "    </tr>\n",
       "    <tr>\n",
       "      <th>1</th>\n",
       "      <td>2008</td>\n",
       "      <td>1</td>\n",
       "      <td>3</td>\n",
       "      <td>4</td>\n",
       "      <td>754.0</td>\n",
       "      <td>735</td>\n",
       "      <td>1000</td>\n",
       "      <td>WN</td>\n",
       "      <td>3231</td>\n",
       "      <td>145.0</td>\n",
       "      <td>19.0</td>\n",
       "      <td>IAD</td>\n",
       "      <td>TPA</td>\n",
       "      <td>810</td>\n",
       "      <td>1.0</td>\n",
       "    </tr>\n",
       "    <tr>\n",
       "      <th>2</th>\n",
       "      <td>2008</td>\n",
       "      <td>1</td>\n",
       "      <td>3</td>\n",
       "      <td>4</td>\n",
       "      <td>628.0</td>\n",
       "      <td>620</td>\n",
       "      <td>750</td>\n",
       "      <td>WN</td>\n",
       "      <td>448</td>\n",
       "      <td>90.0</td>\n",
       "      <td>8.0</td>\n",
       "      <td>IND</td>\n",
       "      <td>BWI</td>\n",
       "      <td>515</td>\n",
       "      <td>0.0</td>\n",
       "    </tr>\n",
       "    <tr>\n",
       "      <th>3</th>\n",
       "      <td>2008</td>\n",
       "      <td>1</td>\n",
       "      <td>3</td>\n",
       "      <td>4</td>\n",
       "      <td>926.0</td>\n",
       "      <td>930</td>\n",
       "      <td>1100</td>\n",
       "      <td>WN</td>\n",
       "      <td>1746</td>\n",
       "      <td>90.0</td>\n",
       "      <td>-4.0</td>\n",
       "      <td>IND</td>\n",
       "      <td>BWI</td>\n",
       "      <td>515</td>\n",
       "      <td>0.0</td>\n",
       "    </tr>\n",
       "    <tr>\n",
       "      <th>4</th>\n",
       "      <td>2008</td>\n",
       "      <td>1</td>\n",
       "      <td>3</td>\n",
       "      <td>4</td>\n",
       "      <td>1829.0</td>\n",
       "      <td>1755</td>\n",
       "      <td>1925</td>\n",
       "      <td>WN</td>\n",
       "      <td>3920</td>\n",
       "      <td>90.0</td>\n",
       "      <td>34.0</td>\n",
       "      <td>IND</td>\n",
       "      <td>BWI</td>\n",
       "      <td>515</td>\n",
       "      <td>1.0</td>\n",
       "    </tr>\n",
       "    <tr>\n",
       "      <th>...</th>\n",
       "      <td>...</td>\n",
       "      <td>...</td>\n",
       "      <td>...</td>\n",
       "      <td>...</td>\n",
       "      <td>...</td>\n",
       "      <td>...</td>\n",
       "      <td>...</td>\n",
       "      <td>...</td>\n",
       "      <td>...</td>\n",
       "      <td>...</td>\n",
       "      <td>...</td>\n",
       "      <td>...</td>\n",
       "      <td>...</td>\n",
       "      <td>...</td>\n",
       "      <td>...</td>\n",
       "    </tr>\n",
       "    <tr>\n",
       "      <th>3604170</th>\n",
       "      <td>2008</td>\n",
       "      <td>6</td>\n",
       "      <td>19</td>\n",
       "      <td>4</td>\n",
       "      <td>1059.0</td>\n",
       "      <td>1100</td>\n",
       "      <td>1256</td>\n",
       "      <td>DL</td>\n",
       "      <td>1547</td>\n",
       "      <td>236.0</td>\n",
       "      <td>-1.0</td>\n",
       "      <td>ATL</td>\n",
       "      <td>JAC</td>\n",
       "      <td>1572</td>\n",
       "      <td>0.0</td>\n",
       "    </tr>\n",
       "    <tr>\n",
       "      <th>3604171</th>\n",
       "      <td>2008</td>\n",
       "      <td>6</td>\n",
       "      <td>19</td>\n",
       "      <td>4</td>\n",
       "      <td>555.0</td>\n",
       "      <td>600</td>\n",
       "      <td>738</td>\n",
       "      <td>DL</td>\n",
       "      <td>1548</td>\n",
       "      <td>98.0</td>\n",
       "      <td>-5.0</td>\n",
       "      <td>RSW</td>\n",
       "      <td>ATL</td>\n",
       "      <td>515</td>\n",
       "      <td>0.0</td>\n",
       "    </tr>\n",
       "    <tr>\n",
       "      <th>3604172</th>\n",
       "      <td>2008</td>\n",
       "      <td>6</td>\n",
       "      <td>19</td>\n",
       "      <td>4</td>\n",
       "      <td>821.0</td>\n",
       "      <td>827</td>\n",
       "      <td>1003</td>\n",
       "      <td>DL</td>\n",
       "      <td>1548</td>\n",
       "      <td>96.0</td>\n",
       "      <td>-6.0</td>\n",
       "      <td>ATL</td>\n",
       "      <td>IND</td>\n",
       "      <td>432</td>\n",
       "      <td>0.0</td>\n",
       "    </tr>\n",
       "    <tr>\n",
       "      <th>3604173</th>\n",
       "      <td>2008</td>\n",
       "      <td>6</td>\n",
       "      <td>19</td>\n",
       "      <td>4</td>\n",
       "      <td>718.0</td>\n",
       "      <td>735</td>\n",
       "      <td>852</td>\n",
       "      <td>DL</td>\n",
       "      <td>1551</td>\n",
       "      <td>77.0</td>\n",
       "      <td>-17.0</td>\n",
       "      <td>CAE</td>\n",
       "      <td>ATL</td>\n",
       "      <td>191</td>\n",
       "      <td>0.0</td>\n",
       "    </tr>\n",
       "    <tr>\n",
       "      <th>3604174</th>\n",
       "      <td>2008</td>\n",
       "      <td>6</td>\n",
       "      <td>19</td>\n",
       "      <td>4</td>\n",
       "      <td>1127.0</td>\n",
       "      <td>951</td>\n",
       "      <td>1130</td>\n",
       "      <td>DL</td>\n",
       "      <td>1551</td>\n",
       "      <td>159.0</td>\n",
       "      <td>96.0</td>\n",
       "      <td>ATL</td>\n",
       "      <td>MSP</td>\n",
       "      <td>906</td>\n",
       "      <td>1.0</td>\n",
       "    </tr>\n",
       "  </tbody>\n",
       "</table>\n",
       "<p>3522167 rows × 15 columns</p>\n",
       "</div>"
      ],
      "text/plain": [
       "         Year  Month  DayofMonth  DayOfWeek  Actual_Shipment_Time  \\\n",
       "0        2008      1           3          4                2003.0   \n",
       "1        2008      1           3          4                 754.0   \n",
       "2        2008      1           3          4                 628.0   \n",
       "3        2008      1           3          4                 926.0   \n",
       "4        2008      1           3          4                1829.0   \n",
       "...       ...    ...         ...        ...                   ...   \n",
       "3604170  2008      6          19          4                1059.0   \n",
       "3604171  2008      6          19          4                 555.0   \n",
       "3604172  2008      6          19          4                 821.0   \n",
       "3604173  2008      6          19          4                 718.0   \n",
       "3604174  2008      6          19          4                1127.0   \n",
       "\n",
       "         Planned_Shipment_Time  Planned_Delivery_Time Carrier_Name  \\\n",
       "0                         1955                   2225           WN   \n",
       "1                          735                   1000           WN   \n",
       "2                          620                    750           WN   \n",
       "3                          930                   1100           WN   \n",
       "4                         1755                   1925           WN   \n",
       "...                        ...                    ...          ...   \n",
       "3604170                   1100                   1256           DL   \n",
       "3604171                    600                    738           DL   \n",
       "3604172                    827                   1003           DL   \n",
       "3604173                    735                    852           DL   \n",
       "3604174                    951                   1130           DL   \n",
       "\n",
       "         Carrier_Num  Planned_TimeofTravel  Shipment_Delay Source Destination  \\\n",
       "0                335                 150.0             8.0    IAD         TPA   \n",
       "1               3231                 145.0            19.0    IAD         TPA   \n",
       "2                448                  90.0             8.0    IND         BWI   \n",
       "3               1746                  90.0            -4.0    IND         BWI   \n",
       "4               3920                  90.0            34.0    IND         BWI   \n",
       "...              ...                   ...             ...    ...         ...   \n",
       "3604170         1547                 236.0            -1.0    ATL         JAC   \n",
       "3604171         1548                  98.0            -5.0    RSW         ATL   \n",
       "3604172         1548                  96.0            -6.0    ATL         IND   \n",
       "3604173         1551                  77.0           -17.0    CAE         ATL   \n",
       "3604174         1551                 159.0            96.0    ATL         MSP   \n",
       "\n",
       "         Distance  Delivery_Status  \n",
       "0             810              0.0  \n",
       "1             810              1.0  \n",
       "2             515              0.0  \n",
       "3             515              0.0  \n",
       "4             515              1.0  \n",
       "...           ...              ...  \n",
       "3604170      1572              0.0  \n",
       "3604171       515              0.0  \n",
       "3604172       432              0.0  \n",
       "3604173       191              0.0  \n",
       "3604174       906              1.0  \n",
       "\n",
       "[3522167 rows x 15 columns]"
      ]
     },
     "execution_count": 24,
     "metadata": {},
     "output_type": "execute_result"
    }
   ],
   "source": [
    "df"
   ]
  },
  {
   "cell_type": "code",
   "execution_count": 25,
   "metadata": {},
   "outputs": [],
   "source": [
    "df_getdummies=pd.get_dummies(df,columns=['Carrier_Name','Source','Destination'],sparse=True)"
   ]
  },
  {
   "cell_type": "code",
   "execution_count": 26,
   "metadata": {},
   "outputs": [
    {
     "name": "stdout",
     "output_type": "stream",
     "text": [
      "<class 'pandas.core.frame.DataFrame'>\n",
      "Int64Index: 3522167 entries, 0 to 3604174\n",
      "Columns: 628 entries, Year to Destination_YUM\n",
      "dtypes: Sparse[uint8, 0](616), float64(4), int64(8)\n",
      "memory usage: 399.7 MB\n"
     ]
    }
   ],
   "source": [
    "df_getdummies.info()"
   ]
  },
  {
   "cell_type": "code",
   "execution_count": 27,
   "metadata": {},
   "outputs": [],
   "source": [
    "# # Standardizing\n",
    "# from sklearn.preprocessing import StandardScaler\n",
    "# scaler = StandardScaler()\n",
    "# feature_Numeric=[feature for feature in df.columns if df[feature].dtype!='O']\n",
    "# feature_Numeric\n",
    "# scaler.fit(df[feature_Numeric])\n",
    "# # df_getdummies.head(5)"
   ]
  },
  {
   "cell_type": "code",
   "execution_count": 28,
   "metadata": {},
   "outputs": [
    {
     "data": {
      "text/html": [
       "<div>\n",
       "<style scoped>\n",
       "    .dataframe tbody tr th:only-of-type {\n",
       "        vertical-align: middle;\n",
       "    }\n",
       "\n",
       "    .dataframe tbody tr th {\n",
       "        vertical-align: top;\n",
       "    }\n",
       "\n",
       "    .dataframe thead th {\n",
       "        text-align: right;\n",
       "    }\n",
       "</style>\n",
       "<table border=\"1\" class=\"dataframe\">\n",
       "  <thead>\n",
       "    <tr style=\"text-align: right;\">\n",
       "      <th></th>\n",
       "      <th>Year</th>\n",
       "      <th>Month</th>\n",
       "      <th>DayofMonth</th>\n",
       "      <th>DayOfWeek</th>\n",
       "      <th>Actual_Shipment_Time</th>\n",
       "      <th>Planned_Shipment_Time</th>\n",
       "      <th>Planned_Delivery_Time</th>\n",
       "      <th>Carrier_Name</th>\n",
       "      <th>Carrier_Num</th>\n",
       "      <th>Planned_TimeofTravel</th>\n",
       "      <th>Shipment_Delay</th>\n",
       "      <th>Source</th>\n",
       "      <th>Destination</th>\n",
       "      <th>Distance</th>\n",
       "      <th>Delivery_Status</th>\n",
       "    </tr>\n",
       "  </thead>\n",
       "  <tbody>\n",
       "    <tr>\n",
       "      <th>0</th>\n",
       "      <td>2008</td>\n",
       "      <td>1</td>\n",
       "      <td>3</td>\n",
       "      <td>4</td>\n",
       "      <td>2003.0</td>\n",
       "      <td>1955</td>\n",
       "      <td>2225</td>\n",
       "      <td>WN</td>\n",
       "      <td>335</td>\n",
       "      <td>150.0</td>\n",
       "      <td>8.0</td>\n",
       "      <td>IAD</td>\n",
       "      <td>TPA</td>\n",
       "      <td>810</td>\n",
       "      <td>0.0</td>\n",
       "    </tr>\n",
       "    <tr>\n",
       "      <th>1</th>\n",
       "      <td>2008</td>\n",
       "      <td>1</td>\n",
       "      <td>3</td>\n",
       "      <td>4</td>\n",
       "      <td>754.0</td>\n",
       "      <td>735</td>\n",
       "      <td>1000</td>\n",
       "      <td>WN</td>\n",
       "      <td>3231</td>\n",
       "      <td>145.0</td>\n",
       "      <td>19.0</td>\n",
       "      <td>IAD</td>\n",
       "      <td>TPA</td>\n",
       "      <td>810</td>\n",
       "      <td>1.0</td>\n",
       "    </tr>\n",
       "    <tr>\n",
       "      <th>2</th>\n",
       "      <td>2008</td>\n",
       "      <td>1</td>\n",
       "      <td>3</td>\n",
       "      <td>4</td>\n",
       "      <td>628.0</td>\n",
       "      <td>620</td>\n",
       "      <td>750</td>\n",
       "      <td>WN</td>\n",
       "      <td>448</td>\n",
       "      <td>90.0</td>\n",
       "      <td>8.0</td>\n",
       "      <td>IND</td>\n",
       "      <td>BWI</td>\n",
       "      <td>515</td>\n",
       "      <td>0.0</td>\n",
       "    </tr>\n",
       "    <tr>\n",
       "      <th>3</th>\n",
       "      <td>2008</td>\n",
       "      <td>1</td>\n",
       "      <td>3</td>\n",
       "      <td>4</td>\n",
       "      <td>926.0</td>\n",
       "      <td>930</td>\n",
       "      <td>1100</td>\n",
       "      <td>WN</td>\n",
       "      <td>1746</td>\n",
       "      <td>90.0</td>\n",
       "      <td>-4.0</td>\n",
       "      <td>IND</td>\n",
       "      <td>BWI</td>\n",
       "      <td>515</td>\n",
       "      <td>0.0</td>\n",
       "    </tr>\n",
       "    <tr>\n",
       "      <th>4</th>\n",
       "      <td>2008</td>\n",
       "      <td>1</td>\n",
       "      <td>3</td>\n",
       "      <td>4</td>\n",
       "      <td>1829.0</td>\n",
       "      <td>1755</td>\n",
       "      <td>1925</td>\n",
       "      <td>WN</td>\n",
       "      <td>3920</td>\n",
       "      <td>90.0</td>\n",
       "      <td>34.0</td>\n",
       "      <td>IND</td>\n",
       "      <td>BWI</td>\n",
       "      <td>515</td>\n",
       "      <td>1.0</td>\n",
       "    </tr>\n",
       "    <tr>\n",
       "      <th>...</th>\n",
       "      <td>...</td>\n",
       "      <td>...</td>\n",
       "      <td>...</td>\n",
       "      <td>...</td>\n",
       "      <td>...</td>\n",
       "      <td>...</td>\n",
       "      <td>...</td>\n",
       "      <td>...</td>\n",
       "      <td>...</td>\n",
       "      <td>...</td>\n",
       "      <td>...</td>\n",
       "      <td>...</td>\n",
       "      <td>...</td>\n",
       "      <td>...</td>\n",
       "      <td>...</td>\n",
       "    </tr>\n",
       "    <tr>\n",
       "      <th>3604170</th>\n",
       "      <td>2008</td>\n",
       "      <td>6</td>\n",
       "      <td>19</td>\n",
       "      <td>4</td>\n",
       "      <td>1059.0</td>\n",
       "      <td>1100</td>\n",
       "      <td>1256</td>\n",
       "      <td>DL</td>\n",
       "      <td>1547</td>\n",
       "      <td>236.0</td>\n",
       "      <td>-1.0</td>\n",
       "      <td>ATL</td>\n",
       "      <td>JAC</td>\n",
       "      <td>1572</td>\n",
       "      <td>0.0</td>\n",
       "    </tr>\n",
       "    <tr>\n",
       "      <th>3604171</th>\n",
       "      <td>2008</td>\n",
       "      <td>6</td>\n",
       "      <td>19</td>\n",
       "      <td>4</td>\n",
       "      <td>555.0</td>\n",
       "      <td>600</td>\n",
       "      <td>738</td>\n",
       "      <td>DL</td>\n",
       "      <td>1548</td>\n",
       "      <td>98.0</td>\n",
       "      <td>-5.0</td>\n",
       "      <td>RSW</td>\n",
       "      <td>ATL</td>\n",
       "      <td>515</td>\n",
       "      <td>0.0</td>\n",
       "    </tr>\n",
       "    <tr>\n",
       "      <th>3604172</th>\n",
       "      <td>2008</td>\n",
       "      <td>6</td>\n",
       "      <td>19</td>\n",
       "      <td>4</td>\n",
       "      <td>821.0</td>\n",
       "      <td>827</td>\n",
       "      <td>1003</td>\n",
       "      <td>DL</td>\n",
       "      <td>1548</td>\n",
       "      <td>96.0</td>\n",
       "      <td>-6.0</td>\n",
       "      <td>ATL</td>\n",
       "      <td>IND</td>\n",
       "      <td>432</td>\n",
       "      <td>0.0</td>\n",
       "    </tr>\n",
       "    <tr>\n",
       "      <th>3604173</th>\n",
       "      <td>2008</td>\n",
       "      <td>6</td>\n",
       "      <td>19</td>\n",
       "      <td>4</td>\n",
       "      <td>718.0</td>\n",
       "      <td>735</td>\n",
       "      <td>852</td>\n",
       "      <td>DL</td>\n",
       "      <td>1551</td>\n",
       "      <td>77.0</td>\n",
       "      <td>-17.0</td>\n",
       "      <td>CAE</td>\n",
       "      <td>ATL</td>\n",
       "      <td>191</td>\n",
       "      <td>0.0</td>\n",
       "    </tr>\n",
       "    <tr>\n",
       "      <th>3604174</th>\n",
       "      <td>2008</td>\n",
       "      <td>6</td>\n",
       "      <td>19</td>\n",
       "      <td>4</td>\n",
       "      <td>1127.0</td>\n",
       "      <td>951</td>\n",
       "      <td>1130</td>\n",
       "      <td>DL</td>\n",
       "      <td>1551</td>\n",
       "      <td>159.0</td>\n",
       "      <td>96.0</td>\n",
       "      <td>ATL</td>\n",
       "      <td>MSP</td>\n",
       "      <td>906</td>\n",
       "      <td>1.0</td>\n",
       "    </tr>\n",
       "  </tbody>\n",
       "</table>\n",
       "<p>3522167 rows × 15 columns</p>\n",
       "</div>"
      ],
      "text/plain": [
       "         Year  Month  DayofMonth  DayOfWeek  Actual_Shipment_Time  \\\n",
       "0        2008      1           3          4                2003.0   \n",
       "1        2008      1           3          4                 754.0   \n",
       "2        2008      1           3          4                 628.0   \n",
       "3        2008      1           3          4                 926.0   \n",
       "4        2008      1           3          4                1829.0   \n",
       "...       ...    ...         ...        ...                   ...   \n",
       "3604170  2008      6          19          4                1059.0   \n",
       "3604171  2008      6          19          4                 555.0   \n",
       "3604172  2008      6          19          4                 821.0   \n",
       "3604173  2008      6          19          4                 718.0   \n",
       "3604174  2008      6          19          4                1127.0   \n",
       "\n",
       "         Planned_Shipment_Time  Planned_Delivery_Time Carrier_Name  \\\n",
       "0                         1955                   2225           WN   \n",
       "1                          735                   1000           WN   \n",
       "2                          620                    750           WN   \n",
       "3                          930                   1100           WN   \n",
       "4                         1755                   1925           WN   \n",
       "...                        ...                    ...          ...   \n",
       "3604170                   1100                   1256           DL   \n",
       "3604171                    600                    738           DL   \n",
       "3604172                    827                   1003           DL   \n",
       "3604173                    735                    852           DL   \n",
       "3604174                    951                   1130           DL   \n",
       "\n",
       "         Carrier_Num  Planned_TimeofTravel  Shipment_Delay Source Destination  \\\n",
       "0                335                 150.0             8.0    IAD         TPA   \n",
       "1               3231                 145.0            19.0    IAD         TPA   \n",
       "2                448                  90.0             8.0    IND         BWI   \n",
       "3               1746                  90.0            -4.0    IND         BWI   \n",
       "4               3920                  90.0            34.0    IND         BWI   \n",
       "...              ...                   ...             ...    ...         ...   \n",
       "3604170         1547                 236.0            -1.0    ATL         JAC   \n",
       "3604171         1548                  98.0            -5.0    RSW         ATL   \n",
       "3604172         1548                  96.0            -6.0    ATL         IND   \n",
       "3604173         1551                  77.0           -17.0    CAE         ATL   \n",
       "3604174         1551                 159.0            96.0    ATL         MSP   \n",
       "\n",
       "         Distance  Delivery_Status  \n",
       "0             810              0.0  \n",
       "1             810              1.0  \n",
       "2             515              0.0  \n",
       "3             515              0.0  \n",
       "4             515              1.0  \n",
       "...           ...              ...  \n",
       "3604170      1572              0.0  \n",
       "3604171       515              0.0  \n",
       "3604172       432              0.0  \n",
       "3604173       191              0.0  \n",
       "3604174       906              1.0  \n",
       "\n",
       "[3522167 rows x 15 columns]"
      ]
     },
     "execution_count": 28,
     "metadata": {},
     "output_type": "execute_result"
    }
   ],
   "source": [
    "df"
   ]
  },
  {
   "cell_type": "markdown",
   "metadata": {},
   "source": [
    "### Modeling"
   ]
  },
  {
   "cell_type": "code",
   "execution_count": 29,
   "metadata": {},
   "outputs": [],
   "source": [
    "#target and dependent variable \n",
    "y=df_getdummies.Delivery_Status"
   ]
  },
  {
   "cell_type": "code",
   "execution_count": 30,
   "metadata": {},
   "outputs": [],
   "source": [
    "x=df_getdummies.drop(['Delivery_Status','Year'],axis=1)"
   ]
  },
  {
   "cell_type": "code",
   "execution_count": 31,
   "metadata": {},
   "outputs": [
    {
     "data": {
      "text/html": [
       "<div>\n",
       "<style scoped>\n",
       "    .dataframe tbody tr th:only-of-type {\n",
       "        vertical-align: middle;\n",
       "    }\n",
       "\n",
       "    .dataframe tbody tr th {\n",
       "        vertical-align: top;\n",
       "    }\n",
       "\n",
       "    .dataframe thead th {\n",
       "        text-align: right;\n",
       "    }\n",
       "</style>\n",
       "<table border=\"1\" class=\"dataframe\">\n",
       "  <thead>\n",
       "    <tr style=\"text-align: right;\">\n",
       "      <th></th>\n",
       "      <th>Month</th>\n",
       "      <th>DayofMonth</th>\n",
       "      <th>DayOfWeek</th>\n",
       "      <th>Actual_Shipment_Time</th>\n",
       "      <th>Planned_Shipment_Time</th>\n",
       "      <th>Planned_Delivery_Time</th>\n",
       "      <th>Carrier_Num</th>\n",
       "      <th>Planned_TimeofTravel</th>\n",
       "      <th>Shipment_Delay</th>\n",
       "      <th>Distance</th>\n",
       "      <th>...</th>\n",
       "      <th>Destination_TYR</th>\n",
       "      <th>Destination_TYS</th>\n",
       "      <th>Destination_VLD</th>\n",
       "      <th>Destination_VPS</th>\n",
       "      <th>Destination_WRG</th>\n",
       "      <th>Destination_WYS</th>\n",
       "      <th>Destination_XNA</th>\n",
       "      <th>Destination_YAK</th>\n",
       "      <th>Destination_YKM</th>\n",
       "      <th>Destination_YUM</th>\n",
       "    </tr>\n",
       "  </thead>\n",
       "  <tbody>\n",
       "    <tr>\n",
       "      <th>0</th>\n",
       "      <td>1</td>\n",
       "      <td>3</td>\n",
       "      <td>4</td>\n",
       "      <td>2003.0</td>\n",
       "      <td>1955</td>\n",
       "      <td>2225</td>\n",
       "      <td>335</td>\n",
       "      <td>150.0</td>\n",
       "      <td>8.0</td>\n",
       "      <td>810</td>\n",
       "      <td>...</td>\n",
       "      <td>0</td>\n",
       "      <td>0</td>\n",
       "      <td>0</td>\n",
       "      <td>0</td>\n",
       "      <td>0</td>\n",
       "      <td>0</td>\n",
       "      <td>0</td>\n",
       "      <td>0</td>\n",
       "      <td>0</td>\n",
       "      <td>0</td>\n",
       "    </tr>\n",
       "    <tr>\n",
       "      <th>1</th>\n",
       "      <td>1</td>\n",
       "      <td>3</td>\n",
       "      <td>4</td>\n",
       "      <td>754.0</td>\n",
       "      <td>735</td>\n",
       "      <td>1000</td>\n",
       "      <td>3231</td>\n",
       "      <td>145.0</td>\n",
       "      <td>19.0</td>\n",
       "      <td>810</td>\n",
       "      <td>...</td>\n",
       "      <td>0</td>\n",
       "      <td>0</td>\n",
       "      <td>0</td>\n",
       "      <td>0</td>\n",
       "      <td>0</td>\n",
       "      <td>0</td>\n",
       "      <td>0</td>\n",
       "      <td>0</td>\n",
       "      <td>0</td>\n",
       "      <td>0</td>\n",
       "    </tr>\n",
       "    <tr>\n",
       "      <th>2</th>\n",
       "      <td>1</td>\n",
       "      <td>3</td>\n",
       "      <td>4</td>\n",
       "      <td>628.0</td>\n",
       "      <td>620</td>\n",
       "      <td>750</td>\n",
       "      <td>448</td>\n",
       "      <td>90.0</td>\n",
       "      <td>8.0</td>\n",
       "      <td>515</td>\n",
       "      <td>...</td>\n",
       "      <td>0</td>\n",
       "      <td>0</td>\n",
       "      <td>0</td>\n",
       "      <td>0</td>\n",
       "      <td>0</td>\n",
       "      <td>0</td>\n",
       "      <td>0</td>\n",
       "      <td>0</td>\n",
       "      <td>0</td>\n",
       "      <td>0</td>\n",
       "    </tr>\n",
       "    <tr>\n",
       "      <th>3</th>\n",
       "      <td>1</td>\n",
       "      <td>3</td>\n",
       "      <td>4</td>\n",
       "      <td>926.0</td>\n",
       "      <td>930</td>\n",
       "      <td>1100</td>\n",
       "      <td>1746</td>\n",
       "      <td>90.0</td>\n",
       "      <td>-4.0</td>\n",
       "      <td>515</td>\n",
       "      <td>...</td>\n",
       "      <td>0</td>\n",
       "      <td>0</td>\n",
       "      <td>0</td>\n",
       "      <td>0</td>\n",
       "      <td>0</td>\n",
       "      <td>0</td>\n",
       "      <td>0</td>\n",
       "      <td>0</td>\n",
       "      <td>0</td>\n",
       "      <td>0</td>\n",
       "    </tr>\n",
       "    <tr>\n",
       "      <th>4</th>\n",
       "      <td>1</td>\n",
       "      <td>3</td>\n",
       "      <td>4</td>\n",
       "      <td>1829.0</td>\n",
       "      <td>1755</td>\n",
       "      <td>1925</td>\n",
       "      <td>3920</td>\n",
       "      <td>90.0</td>\n",
       "      <td>34.0</td>\n",
       "      <td>515</td>\n",
       "      <td>...</td>\n",
       "      <td>0</td>\n",
       "      <td>0</td>\n",
       "      <td>0</td>\n",
       "      <td>0</td>\n",
       "      <td>0</td>\n",
       "      <td>0</td>\n",
       "      <td>0</td>\n",
       "      <td>0</td>\n",
       "      <td>0</td>\n",
       "      <td>0</td>\n",
       "    </tr>\n",
       "    <tr>\n",
       "      <th>...</th>\n",
       "      <td>...</td>\n",
       "      <td>...</td>\n",
       "      <td>...</td>\n",
       "      <td>...</td>\n",
       "      <td>...</td>\n",
       "      <td>...</td>\n",
       "      <td>...</td>\n",
       "      <td>...</td>\n",
       "      <td>...</td>\n",
       "      <td>...</td>\n",
       "      <td>...</td>\n",
       "      <td>...</td>\n",
       "      <td>...</td>\n",
       "      <td>...</td>\n",
       "      <td>...</td>\n",
       "      <td>...</td>\n",
       "      <td>...</td>\n",
       "      <td>...</td>\n",
       "      <td>...</td>\n",
       "      <td>...</td>\n",
       "      <td>...</td>\n",
       "    </tr>\n",
       "    <tr>\n",
       "      <th>3604170</th>\n",
       "      <td>6</td>\n",
       "      <td>19</td>\n",
       "      <td>4</td>\n",
       "      <td>1059.0</td>\n",
       "      <td>1100</td>\n",
       "      <td>1256</td>\n",
       "      <td>1547</td>\n",
       "      <td>236.0</td>\n",
       "      <td>-1.0</td>\n",
       "      <td>1572</td>\n",
       "      <td>...</td>\n",
       "      <td>0</td>\n",
       "      <td>0</td>\n",
       "      <td>0</td>\n",
       "      <td>0</td>\n",
       "      <td>0</td>\n",
       "      <td>0</td>\n",
       "      <td>0</td>\n",
       "      <td>0</td>\n",
       "      <td>0</td>\n",
       "      <td>0</td>\n",
       "    </tr>\n",
       "    <tr>\n",
       "      <th>3604171</th>\n",
       "      <td>6</td>\n",
       "      <td>19</td>\n",
       "      <td>4</td>\n",
       "      <td>555.0</td>\n",
       "      <td>600</td>\n",
       "      <td>738</td>\n",
       "      <td>1548</td>\n",
       "      <td>98.0</td>\n",
       "      <td>-5.0</td>\n",
       "      <td>515</td>\n",
       "      <td>...</td>\n",
       "      <td>0</td>\n",
       "      <td>0</td>\n",
       "      <td>0</td>\n",
       "      <td>0</td>\n",
       "      <td>0</td>\n",
       "      <td>0</td>\n",
       "      <td>0</td>\n",
       "      <td>0</td>\n",
       "      <td>0</td>\n",
       "      <td>0</td>\n",
       "    </tr>\n",
       "    <tr>\n",
       "      <th>3604172</th>\n",
       "      <td>6</td>\n",
       "      <td>19</td>\n",
       "      <td>4</td>\n",
       "      <td>821.0</td>\n",
       "      <td>827</td>\n",
       "      <td>1003</td>\n",
       "      <td>1548</td>\n",
       "      <td>96.0</td>\n",
       "      <td>-6.0</td>\n",
       "      <td>432</td>\n",
       "      <td>...</td>\n",
       "      <td>0</td>\n",
       "      <td>0</td>\n",
       "      <td>0</td>\n",
       "      <td>0</td>\n",
       "      <td>0</td>\n",
       "      <td>0</td>\n",
       "      <td>0</td>\n",
       "      <td>0</td>\n",
       "      <td>0</td>\n",
       "      <td>0</td>\n",
       "    </tr>\n",
       "    <tr>\n",
       "      <th>3604173</th>\n",
       "      <td>6</td>\n",
       "      <td>19</td>\n",
       "      <td>4</td>\n",
       "      <td>718.0</td>\n",
       "      <td>735</td>\n",
       "      <td>852</td>\n",
       "      <td>1551</td>\n",
       "      <td>77.0</td>\n",
       "      <td>-17.0</td>\n",
       "      <td>191</td>\n",
       "      <td>...</td>\n",
       "      <td>0</td>\n",
       "      <td>0</td>\n",
       "      <td>0</td>\n",
       "      <td>0</td>\n",
       "      <td>0</td>\n",
       "      <td>0</td>\n",
       "      <td>0</td>\n",
       "      <td>0</td>\n",
       "      <td>0</td>\n",
       "      <td>0</td>\n",
       "    </tr>\n",
       "    <tr>\n",
       "      <th>3604174</th>\n",
       "      <td>6</td>\n",
       "      <td>19</td>\n",
       "      <td>4</td>\n",
       "      <td>1127.0</td>\n",
       "      <td>951</td>\n",
       "      <td>1130</td>\n",
       "      <td>1551</td>\n",
       "      <td>159.0</td>\n",
       "      <td>96.0</td>\n",
       "      <td>906</td>\n",
       "      <td>...</td>\n",
       "      <td>0</td>\n",
       "      <td>0</td>\n",
       "      <td>0</td>\n",
       "      <td>0</td>\n",
       "      <td>0</td>\n",
       "      <td>0</td>\n",
       "      <td>0</td>\n",
       "      <td>0</td>\n",
       "      <td>0</td>\n",
       "      <td>0</td>\n",
       "    </tr>\n",
       "  </tbody>\n",
       "</table>\n",
       "<p>3522167 rows × 626 columns</p>\n",
       "</div>"
      ],
      "text/plain": [
       "         Month  DayofMonth  DayOfWeek  Actual_Shipment_Time  \\\n",
       "0            1           3          4                2003.0   \n",
       "1            1           3          4                 754.0   \n",
       "2            1           3          4                 628.0   \n",
       "3            1           3          4                 926.0   \n",
       "4            1           3          4                1829.0   \n",
       "...        ...         ...        ...                   ...   \n",
       "3604170      6          19          4                1059.0   \n",
       "3604171      6          19          4                 555.0   \n",
       "3604172      6          19          4                 821.0   \n",
       "3604173      6          19          4                 718.0   \n",
       "3604174      6          19          4                1127.0   \n",
       "\n",
       "         Planned_Shipment_Time  Planned_Delivery_Time  Carrier_Num  \\\n",
       "0                         1955                   2225          335   \n",
       "1                          735                   1000         3231   \n",
       "2                          620                    750          448   \n",
       "3                          930                   1100         1746   \n",
       "4                         1755                   1925         3920   \n",
       "...                        ...                    ...          ...   \n",
       "3604170                   1100                   1256         1547   \n",
       "3604171                    600                    738         1548   \n",
       "3604172                    827                   1003         1548   \n",
       "3604173                    735                    852         1551   \n",
       "3604174                    951                   1130         1551   \n",
       "\n",
       "         Planned_TimeofTravel  Shipment_Delay  Distance  ...  Destination_TYR  \\\n",
       "0                       150.0             8.0       810  ...                0   \n",
       "1                       145.0            19.0       810  ...                0   \n",
       "2                        90.0             8.0       515  ...                0   \n",
       "3                        90.0            -4.0       515  ...                0   \n",
       "4                        90.0            34.0       515  ...                0   \n",
       "...                       ...             ...       ...  ...              ...   \n",
       "3604170                 236.0            -1.0      1572  ...                0   \n",
       "3604171                  98.0            -5.0       515  ...                0   \n",
       "3604172                  96.0            -6.0       432  ...                0   \n",
       "3604173                  77.0           -17.0       191  ...                0   \n",
       "3604174                 159.0            96.0       906  ...                0   \n",
       "\n",
       "         Destination_TYS  Destination_VLD  Destination_VPS  Destination_WRG  \\\n",
       "0                      0                0                0                0   \n",
       "1                      0                0                0                0   \n",
       "2                      0                0                0                0   \n",
       "3                      0                0                0                0   \n",
       "4                      0                0                0                0   \n",
       "...                  ...              ...              ...              ...   \n",
       "3604170                0                0                0                0   \n",
       "3604171                0                0                0                0   \n",
       "3604172                0                0                0                0   \n",
       "3604173                0                0                0                0   \n",
       "3604174                0                0                0                0   \n",
       "\n",
       "         Destination_WYS  Destination_XNA  Destination_YAK  Destination_YKM  \\\n",
       "0                      0                0                0                0   \n",
       "1                      0                0                0                0   \n",
       "2                      0                0                0                0   \n",
       "3                      0                0                0                0   \n",
       "4                      0                0                0                0   \n",
       "...                  ...              ...              ...              ...   \n",
       "3604170                0                0                0                0   \n",
       "3604171                0                0                0                0   \n",
       "3604172                0                0                0                0   \n",
       "3604173                0                0                0                0   \n",
       "3604174                0                0                0                0   \n",
       "\n",
       "         Destination_YUM  \n",
       "0                      0  \n",
       "1                      0  \n",
       "2                      0  \n",
       "3                      0  \n",
       "4                      0  \n",
       "...                  ...  \n",
       "3604170                0  \n",
       "3604171                0  \n",
       "3604172                0  \n",
       "3604173                0  \n",
       "3604174                0  \n",
       "\n",
       "[3522167 rows x 626 columns]"
      ]
     },
     "execution_count": 31,
     "metadata": {},
     "output_type": "execute_result"
    }
   ],
   "source": [
    "x"
   ]
  },
  {
   "cell_type": "code",
   "execution_count": 32,
   "metadata": {},
   "outputs": [],
   "source": [
    "from sklearn.model_selection import train_test_split\n",
    "x_train,x_test,y_train,y_test=train_test_split(x,y,test_size=0.2,random_state=100)"
   ]
  },
  {
   "cell_type": "code",
   "execution_count": 33,
   "metadata": {},
   "outputs": [],
   "source": [
    "# from sklearn.linear_model import LogisticRegression\n",
    "# from sklearn.metrics import confusion_matrix,classification_report\n",
    "# logisticregression=LogisticRegression()\n",
    "# logisticregression.fit(x_train,y_train)"
   ]
  },
  {
   "cell_type": "code",
   "execution_count": 34,
   "metadata": {},
   "outputs": [],
   "source": [
    "# accuracy={}\n",
    "# acc=logisticregression.score(x_test,y_test)*100\n",
    "# accuracy['LogisticRegression']=acc\n",
    "# lr_predict=logisticregression.predict(x_test)\n",
    "# lr_cm=confusion_matrix(lr_predict,y_test)\n",
    "# print(lr_cm)\n",
    "# lr_as=classification_report(lr_predict,y_test)\n",
    "# print(lr_as)"
   ]
  },
  {
   "cell_type": "code",
   "execution_count": 35,
   "metadata": {},
   "outputs": [],
   "source": [
    "# import pickle \n",
    "# filename='finalized_model_LR.pkl'\n",
    "# pickle.dump(logisticregression,open(filename,'wb'))"
   ]
  },
  {
   "cell_type": "code",
   "execution_count": 36,
   "metadata": {},
   "outputs": [],
   "source": [
    "# #KNN model\n",
    "# from sklearn.neighbors import KNeighborsClassifier\n",
    "# knn=KNeighborsClassifier(n_neighbors=6)\n",
    "# knn.fit(x_train,y_train)\n",
    "\n",
    "# knn.predict(x_test)\n",
    "\n",
    "# acc=knn.score(x_test,y_test)*100\n",
    "# accuracy['KNearestNeighbors']=acc\n",
    "\n",
    "# knn_predict=knn.predict(x_test)\n",
    "# knn_cm=confusion_matrix(knn_predict,y_test)\n",
    "# print(knn_cm)\n",
    "# knn_as=classification_report(knn_predict,y_test)\n",
    "# print(knn_as)"
   ]
  },
  {
   "cell_type": "code",
   "execution_count": 37,
   "metadata": {},
   "outputs": [],
   "source": [
    "# import pickle \n",
    "# filename='finalized_model_KN.pkl'\n",
    "# pickle.dump(logisticregression,open(filename,'wb'))"
   ]
  },
  {
   "cell_type": "code",
   "execution_count": 38,
   "metadata": {},
   "outputs": [],
   "source": [
    "# from sklearn.svm import SVC\n",
    "# svm=SVC(random_state=1)\n",
    "# svm.fit(x_train,y_train)\n",
    "# acc=svm.score(x_test,y_test)*100\n",
    "# accuracy['SupportvectorMachine']=acc\n",
    "\n",
    "# svm_predict=svm.predict(x_test)\n",
    "# svm_cm=confusion_matrix(svm_predict,y_test)\n",
    "# print(svm_cm)\n",
    "# svm_as=classification_report(svm_predict,y_test)\n",
    "# print(svm_as)"
   ]
  },
  {
   "cell_type": "code",
   "execution_count": 39,
   "metadata": {},
   "outputs": [],
   "source": [
    "# import pickle \n",
    "# filename='finalized_model_SVC.pkl'\n",
    "# pickle.dump(logisticregression,open(filename,'wb'))"
   ]
  },
  {
   "cell_type": "code",
   "execution_count": 40,
   "metadata": {},
   "outputs": [],
   "source": [
    "# from sklearn.naive_bayes import GaussianNB\n",
    "# nb=GaussianNB()\n",
    "# nb.fit(x_train,y_train)\n",
    "# acc=nb.score(x_test,y_test)*100\n",
    "# accuracy['NaiveBayes']=acc\n",
    "\n",
    "# nb_predict=nb.predict(x_test)\n",
    "# nb_cm=confusion_matrix(nb_predict,y_test)\n",
    "# print(nb_cm)\n",
    "# nb_as=classification_report(nb_predict,y_test)\n",
    "# print(nb_as)"
   ]
  },
  {
   "cell_type": "code",
   "execution_count": 41,
   "metadata": {},
   "outputs": [],
   "source": [
    "# import pickle \n",
    "# filename='finalized_model_NB.pkl'\n",
    "# pickle.dump(logisticregression,open(filename,'wb'))"
   ]
  },
  {
   "cell_type": "code",
   "execution_count": 42,
   "metadata": {},
   "outputs": [],
   "source": [
    "# from sklearn.tree import DecisionTreeClassifier\n",
    "# dt=DecisionTreeClassifier()\n",
    "# dt.fit(x_train,y_train)\n",
    "# acc=dt.score(x_test,y_test)*100\n",
    "# accuracy['DecisionTreeClassifier']=acc\n",
    "\n",
    "# dt_predict=dt.predict(x_test)\n",
    "# dt_cm=confusion_matrix(dt_predict,y_test)\n",
    "# print(dt_cm)\n",
    "# dt_as=classification_report(dt_predict,y_test)\n",
    "# print(dt_as)"
   ]
  },
  {
   "cell_type": "code",
   "execution_count": 43,
   "metadata": {},
   "outputs": [],
   "source": [
    "# import pickle \n",
    "# filename='finalized_model_DTC.pkl'\n",
    "# pickle.dump(logisticregression,open(filename,'wb'))"
   ]
  },
  {
   "cell_type": "code",
   "execution_count": null,
   "metadata": {},
   "outputs": [
    {
     "name": "stderr",
     "output_type": "stream",
     "text": [
      "C:\\ProgramData\\Anaconda3\\lib\\site-packages\\sklearn\\utils\\validation.py:509: UserWarning: pandas.DataFrame with sparse columns found.It will be converted to a dense numpy array.\n",
      "  warnings.warn(\n"
     ]
    }
   ],
   "source": [
    "from sklearn.ensemble import RandomForestClassifier\n",
    "rf=RandomForestClassifier(n_estimators = 1000, random_state = 1)\n",
    "rf.fit(x_train,y_train)\n",
    "acc=rf.score(x_test,y_test)*100\n",
    "accuracy['RandomForestClassifier']=acc\n",
    "\n",
    "rf_predict=rf.predict(x_test)\n",
    "rf_cm=confusion_matrix(rf_predict,y_test)\n",
    "print(rf_cm)\n",
    "rf_as=classification_report(rf_predict,y_test)\n",
    "print(rf_as)"
   ]
  },
  {
   "cell_type": "code",
   "execution_count": null,
   "metadata": {},
   "outputs": [],
   "source": [
    "import pickle \n",
    "filename='finalized_model_RF.pkl'\n",
    "pickle.dump(logisticregression,open(filename,'wb'))"
   ]
  },
  {
   "cell_type": "code",
   "execution_count": null,
   "metadata": {},
   "outputs": [],
   "source": [
    "accuracy.values()"
   ]
  },
  {
   "cell_type": "code",
   "execution_count": null,
   "metadata": {},
   "outputs": [],
   "source": [
    "colors = [\"purple\", \"green\", \"orange\", \"magenta\",\"#CFC60E\",\"#0FBBAE\"]\n",
    "\n",
    "sns.set_style(\"whitegrid\")\n",
    "plt.figure(figsize=(16,5))\n",
    "plt.yticks(np.arange(0,100,10))\n",
    "plt.ylabel(\"Accuracy %\")\n",
    "plt.xlabel(\"Algorithms\")\n",
    "sns.barplot(x=list(accuracy.keys()), y=list(accuracy.values()), palette=colors)\n",
    "plt.show()"
   ]
  },
  {
   "cell_type": "code",
   "execution_count": null,
   "metadata": {},
   "outputs": [],
   "source": [
    "plt.figure(figsize=(24,12))\n",
    "\n",
    "plt.suptitle(\"Confusion Matrixes\",fontsize=24)\n",
    "plt.subplots_adjust(wspace = 0.4, hspace= 0.4)\n",
    "\n",
    "plt.subplot(2,3,1)\n",
    "plt.title(\"Logistic Regression Confusion Matrix\")\n",
    "sns.heatmap(lr_cm,annot=True,cmap=\"Blues\",fmt=\"d\",cbar=False, annot_kws={\"size\": 24})\n",
    "\n",
    "plt.subplot(2,3,2)\n",
    "plt.title(\"K Nearest Neighbors Confusion Matrix\")\n",
    "sns.heatmap(knn_cm,annot=True,cmap=\"Blues\",fmt=\"d\",cbar=False, annot_kws={\"size\": 24})\n",
    "\n",
    "plt.subplot(2,3,3)\n",
    "plt.title(\"Support Vector Machine Confusion Matrix\")\n",
    "sns.heatmap(svm_cm,annot=True,cmap=\"Blues\",fmt=\"d\",cbar=False, annot_kws={\"size\": 24})\n",
    "\n",
    "plt.subplot(2,3,4)\n",
    "plt.title(\"Naive Bayes Confusion Matrix\")\n",
    "sns.heatmap(nb_cm,annot=True,cmap=\"Blues\",fmt=\"d\",cbar=False, annot_kws={\"size\": 24})\n",
    "\n",
    "plt.subplot(2,3,5)\n",
    "plt.title(\"Decision Tree Classifier Confusion Matrix\")\n",
    "sns.heatmap(dt_cm,annot=True,cmap=\"Blues\",fmt=\"d\",cbar=False, annot_kws={\"size\": 24})\n",
    "\n",
    "plt.subplot(2,3,6)\n",
    "plt.title(\"Random Forest Confusion Matrix\")\n",
    "sns.heatmap(rf_cm,annot=True,cmap=\"Blues\",fmt=\"d\",cbar=False, annot_kws={\"size\": 24})\n",
    "\n",
    "plt.show()"
   ]
  },
  {
   "cell_type": "code",
   "execution_count": null,
   "metadata": {},
   "outputs": [],
   "source": []
  }
 ],
 "metadata": {
  "kernelspec": {
   "display_name": "Python 3",
   "language": "python",
   "name": "python3"
  },
  "language_info": {
   "codemirror_mode": {
    "name": "ipython",
    "version": 3
   },
   "file_extension": ".py",
   "mimetype": "text/x-python",
   "name": "python",
   "nbconvert_exporter": "python",
   "pygments_lexer": "ipython3",
   "version": "3.8.3"
  }
 },
 "nbformat": 4,
 "nbformat_minor": 4
}
